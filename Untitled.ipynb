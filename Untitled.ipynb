{
 "cells": [
  {
   "cell_type": "code",
   "execution_count": 128,
   "metadata": {},
   "outputs": [],
   "source": [
    "import csv\n",
    "with open('texts.csv', 'r') as f:\n",
    "    reader = csv.reader(f)\n",
    "    texts = list(reader)\n",
    "\n",
    "with open('calls.csv', 'r') as f:\n",
    "    reader = csv.reader(f)\n",
    "    calls = list(reader)\n",
    "    \n",
    "totalTexts = len(texts)"
   ]
  },
  {
   "cell_type": "code",
   "execution_count": 129,
   "metadata": {},
   "outputs": [],
   "source": [
    "codes=[]"
   ]
  },
  {
   "cell_type": "code",
   "execution_count": 130,
   "metadata": {},
   "outputs": [],
   "source": [
    "def GetCode(number):\n",
    "    if number[0] == \"(\":\n",
    "        fixed_line_code = []\n",
    "        i = 0\n",
    "        while number.strip()[i] != \")\":\n",
    "            if number[i] != \"(\":\n",
    "                fixed_line_code.append(number[i])\n",
    "            i += 1\n",
    "            \n",
    "        fixed_line_code = \"\".join(fixed_line_code)\n",
    "        return fixed_line_code\n",
    "    if \" \" in number:\n",
    "        mobile_prefix = number[0:4]\n",
    "        return mobile_prefix\n",
    "    if number[0:3] == \"140\":\n",
    "        return \"140\"\n",
    "    return None\n",
    "        "
   ]
  },
  {
   "cell_type": "code",
   "execution_count": 131,
   "metadata": {},
   "outputs": [],
   "source": [
    "for call in calls:\n",
    "    callerCode = GetCode(call[0])\n",
    "    if callerCode != None and callerCode not in codes:\n",
    "        codes.append(callerCode)\n",
    "    if answerCode != None and answerCode not in codes:\n",
    "        codes.append(answerCode)\n",
    "        \n",
    "        \n",
    "    "
   ]
  },
  {
   "cell_type": "code",
   "execution_count": 133,
   "metadata": {},
   "outputs": [],
   "source": [
    "codes.sort()"
   ]
  },
  {
   "cell_type": "code",
   "execution_count": 138,
   "metadata": {},
   "outputs": [
    {
     "name": "stdout",
     "output_type": "stream",
     "text": [
      "The numbers called by people in Bangalore have codes:\n",
      "( 0 8 0 )\n",
      "011\n",
      "022\n",
      "033\n",
      "040\n",
      "04344\n",
      "044\n",
      "04546\n",
      "0471\n",
      "080\n",
      "0821\n",
      "08214175\n",
      "0824\n",
      "140\n",
      "7012\n",
      "7406\n",
      "7429\n",
      "7795\n",
      "7813\n",
      "7829\n",
      "7899\n",
      "8151\n",
      "8152\n",
      "8301\n",
      "8431\n",
      "8714\n",
      "8907\n",
      "9008\n",
      "9019\n",
      "9035\n",
      "9036\n",
      "9241\n",
      "9242\n",
      "9341\n",
      "9342\n",
      "9343\n",
      "9400\n",
      "9448\n",
      "9449\n",
      "9526\n",
      "9656\n",
      "9738\n",
      "9739\n",
      "9740\n",
      "9741\n",
      "9742\n",
      "9744\n",
      "9844\n",
      "9845\n",
      "9900\n",
      "9961\n"
     ]
    }
   ],
   "source": [
    "print(\"The numbers called by people in Bangalore have codes:\")\n",
    "for code in codes:\n",
    "    print(code)"
   ]
  },
  {
   "cell_type": "code",
   "execution_count": null,
   "metadata": {},
   "outputs": [],
   "source": []
  }
 ],
 "metadata": {
  "kernelspec": {
   "display_name": "Python 3",
   "language": "python",
   "name": "python3"
  },
  "language_info": {
   "codemirror_mode": {
    "name": "ipython",
    "version": 3
   },
   "file_extension": ".py",
   "mimetype": "text/x-python",
   "name": "python",
   "nbconvert_exporter": "python",
   "pygments_lexer": "ipython3",
   "version": "3.6.4"
  }
 },
 "nbformat": 4,
 "nbformat_minor": 2
}
